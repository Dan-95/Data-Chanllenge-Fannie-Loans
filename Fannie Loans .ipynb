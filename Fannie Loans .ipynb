{
 "cells": [
  {
   "cell_type": "code",
   "execution_count": 4,
   "metadata": {},
   "outputs": [
    {
     "name": "stdout",
     "output_type": "stream",
     "text": [
      "Wall time: 0 ns\n",
      "0 1 2 3 4 5 6 7 8 9 10 11 12 13 14 15 16 17 18 19 20 21 22 23 "
     ]
    },
    {
     "data": {
      "text/plain": [
       "0"
      ]
     },
     "execution_count": 4,
     "metadata": {},
     "output_type": "execute_result"
    }
   ],
   "source": [
    "### Download the online data from Github \n",
    "\n",
    "import pandas as pd\n",
    "import gc\n",
    "\n",
    "%time\n",
    "df_list = []\n",
    "for i in range(24):\n",
    "    print(i, end = \" \")\n",
    "    df = pd.read_csv(\"https://github.com/The-Exchange-Fannie-Mae/National-File-B-Sample-File/raw/master/file-b-chunk-\" + str(i).zfill(2) + \".zip\", header = None)\n",
    "    df_list.append(df)\n",
    "df_all = pd.concat(df_list)\n",
    "del df_list\n",
    "gc.collect()   # release memory"
   ]
  },
  {
   "cell_type": "code",
   "execution_count": 6,
   "metadata": {},
   "outputs": [
    {
     "data": {
      "text/plain": [
       "(47428547, 19)"
      ]
     },
     "execution_count": 6,
     "metadata": {},
     "output_type": "execute_result"
    }
   ],
   "source": [
    "### Total 47428547 records, 19 columns in each records\n",
    "df_all.shape"
   ]
  },
  {
   "cell_type": "code",
   "execution_count": 7,
   "metadata": {},
   "outputs": [],
   "source": [
    "### Name the columns based on the requirements\n",
    "df_all.columns = ['enterprise',\"id\", 'msaType', 'censusTractPctMinority', 'tractIncomeRatio',\n",
    "       'borrowerIncomeRatio', 'dateAcquiredVsDateOriginated', 'loanPurpose',\n",
    "       'federalGuarantee', 'sellerInstitutionType',\n",
    "       'borrowerRaceOriginEthnicity', 'coborrowerRaceOriginEthnicity',\n",
    "       'borrowerGender', 'coborrowerGender', 'occupancyCode', 'numberOfUnits',\n",
    "       'ownerOccupied', 'affordabilityCategory', 'reportingYear']"
   ]
  },
  {
   "cell_type": "code",
   "execution_count": 5,
   "metadata": {},
   "outputs": [],
   "source": [
    "### Delete useless data\n",
    "df_all = df_all.drop(columns = ['id'])"
   ]
  },
  {
   "cell_type": "code",
   "execution_count": 8,
   "metadata": {},
   "outputs": [
    {
     "data": {
      "text/plain": [
       "4    21756457\n",
       "2    19661429\n",
       "1     3947460\n",
       "3     1871525\n",
       "9      191676\n",
       "Name: coborrowerGender, dtype: int64"
      ]
     },
     "execution_count": 8,
     "metadata": {},
     "output_type": "execute_result"
    }
   ],
   "source": [
    "### Modify data according to requirements, Also count different types of loan\n",
    "df_all.loc[df_all['coborrowerGender'] == 5, 'coborrowerGender'] = 4\n",
    "df_all['coborrowerGender'].value_counts()"
   ]
  },
  {
   "cell_type": "code",
   "execution_count": 8,
   "metadata": {
    "scrolled": true
   },
   "outputs": [
    {
     "data": {
      "text/html": [
       "<div>\n",
       "<style scoped>\n",
       "    .dataframe tbody tr th:only-of-type {\n",
       "        vertical-align: middle;\n",
       "    }\n",
       "\n",
       "    .dataframe tbody tr th {\n",
       "        vertical-align: top;\n",
       "    }\n",
       "\n",
       "    .dataframe thead th {\n",
       "        text-align: right;\n",
       "    }\n",
       "</style>\n",
       "<table border=\"1\" class=\"dataframe\">\n",
       "  <thead>\n",
       "    <tr style=\"text-align: right;\">\n",
       "      <th></th>\n",
       "      <th>enterprise</th>\n",
       "      <th>msaType</th>\n",
       "      <th>censusTractPctMinority</th>\n",
       "      <th>tractIncomeRatio</th>\n",
       "      <th>borrowerIncomeRatio</th>\n",
       "      <th>dateAcquiredVsDateOriginated</th>\n",
       "      <th>loanPurpose</th>\n",
       "      <th>federalGuarantee</th>\n",
       "      <th>sellerInstitutionType</th>\n",
       "      <th>borrowerRaceOriginEthnicity</th>\n",
       "      <th>coborrowerRaceOriginEthnicity</th>\n",
       "      <th>borrowerGender</th>\n",
       "      <th>coborrowerGender</th>\n",
       "      <th>occupancyCode</th>\n",
       "      <th>numberOfUnits</th>\n",
       "      <th>ownerOccupied</th>\n",
       "      <th>affordabilityCategory</th>\n",
       "      <th>reportingYear</th>\n",
       "    </tr>\n",
       "  </thead>\n",
       "  <tbody>\n",
       "    <tr>\n",
       "      <th>0</th>\n",
       "      <td>2</td>\n",
       "      <td>1</td>\n",
       "      <td>2</td>\n",
       "      <td>3</td>\n",
       "      <td>2</td>\n",
       "      <td>1</td>\n",
       "      <td>1</td>\n",
       "      <td>4</td>\n",
       "      <td>3</td>\n",
       "      <td>5</td>\n",
       "      <td>5</td>\n",
       "      <td>1</td>\n",
       "      <td>1</td>\n",
       "      <td>3</td>\n",
       "      <td>1</td>\n",
       "      <td>2</td>\n",
       "      <td>9</td>\n",
       "      <td>2008</td>\n",
       "    </tr>\n",
       "    <tr>\n",
       "      <th>1</th>\n",
       "      <td>2</td>\n",
       "      <td>1</td>\n",
       "      <td>2</td>\n",
       "      <td>3</td>\n",
       "      <td>3</td>\n",
       "      <td>2</td>\n",
       "      <td>1</td>\n",
       "      <td>4</td>\n",
       "      <td>1</td>\n",
       "      <td>5</td>\n",
       "      <td>5</td>\n",
       "      <td>2</td>\n",
       "      <td>1</td>\n",
       "      <td>1</td>\n",
       "      <td>1</td>\n",
       "      <td>1</td>\n",
       "      <td>9</td>\n",
       "      <td>2008</td>\n",
       "    </tr>\n",
       "    <tr>\n",
       "      <th>2</th>\n",
       "      <td>2</td>\n",
       "      <td>1</td>\n",
       "      <td>1</td>\n",
       "      <td>2</td>\n",
       "      <td>3</td>\n",
       "      <td>1</td>\n",
       "      <td>2</td>\n",
       "      <td>4</td>\n",
       "      <td>1</td>\n",
       "      <td>5</td>\n",
       "      <td>5</td>\n",
       "      <td>1</td>\n",
       "      <td>2</td>\n",
       "      <td>1</td>\n",
       "      <td>1</td>\n",
       "      <td>1</td>\n",
       "      <td>9</td>\n",
       "      <td>2008</td>\n",
       "    </tr>\n",
       "    <tr>\n",
       "      <th>3</th>\n",
       "      <td>2</td>\n",
       "      <td>1</td>\n",
       "      <td>2</td>\n",
       "      <td>3</td>\n",
       "      <td>3</td>\n",
       "      <td>1</td>\n",
       "      <td>1</td>\n",
       "      <td>4</td>\n",
       "      <td>2</td>\n",
       "      <td>9</td>\n",
       "      <td>9</td>\n",
       "      <td>1</td>\n",
       "      <td>4</td>\n",
       "      <td>1</td>\n",
       "      <td>1</td>\n",
       "      <td>1</td>\n",
       "      <td>9</td>\n",
       "      <td>2008</td>\n",
       "    </tr>\n",
       "    <tr>\n",
       "      <th>4</th>\n",
       "      <td>2</td>\n",
       "      <td>1</td>\n",
       "      <td>2</td>\n",
       "      <td>3</td>\n",
       "      <td>3</td>\n",
       "      <td>2</td>\n",
       "      <td>2</td>\n",
       "      <td>4</td>\n",
       "      <td>3</td>\n",
       "      <td>9</td>\n",
       "      <td>9</td>\n",
       "      <td>1</td>\n",
       "      <td>2</td>\n",
       "      <td>1</td>\n",
       "      <td>1</td>\n",
       "      <td>1</td>\n",
       "      <td>9</td>\n",
       "      <td>2008</td>\n",
       "    </tr>\n",
       "  </tbody>\n",
       "</table>\n",
       "</div>"
      ],
      "text/plain": [
       "   enterprise  msaType  censusTractPctMinority  tractIncomeRatio  \\\n",
       "0           2        1                       2                 3   \n",
       "1           2        1                       2                 3   \n",
       "2           2        1                       1                 2   \n",
       "3           2        1                       2                 3   \n",
       "4           2        1                       2                 3   \n",
       "\n",
       "   borrowerIncomeRatio  dateAcquiredVsDateOriginated  loanPurpose  \\\n",
       "0                    2                             1            1   \n",
       "1                    3                             2            1   \n",
       "2                    3                             1            2   \n",
       "3                    3                             1            1   \n",
       "4                    3                             2            2   \n",
       "\n",
       "   federalGuarantee  sellerInstitutionType  borrowerRaceOriginEthnicity  \\\n",
       "0                 4                      3                            5   \n",
       "1                 4                      1                            5   \n",
       "2                 4                      1                            5   \n",
       "3                 4                      2                            9   \n",
       "4                 4                      3                            9   \n",
       "\n",
       "   coborrowerRaceOriginEthnicity  borrowerGender  coborrowerGender  \\\n",
       "0                              5               1                 1   \n",
       "1                              5               2                 1   \n",
       "2                              5               1                 2   \n",
       "3                              9               1                 4   \n",
       "4                              9               1                 2   \n",
       "\n",
       "   occupancyCode  numberOfUnits  ownerOccupied  affordabilityCategory  \\\n",
       "0              3              1              2                      9   \n",
       "1              1              1              1                      9   \n",
       "2              1              1              1                      9   \n",
       "3              1              1              1                      9   \n",
       "4              1              1              1                      9   \n",
       "\n",
       "   reportingYear  \n",
       "0           2008  \n",
       "1           2008  \n",
       "2           2008  \n",
       "3           2008  \n",
       "4           2008  "
      ]
     },
     "execution_count": 8,
     "metadata": {},
     "output_type": "execute_result"
    }
   ],
   "source": [
    "df_all.head(5)"
   ]
  },
  {
   "cell_type": "code",
   "execution_count": 9,
   "metadata": {},
   "outputs": [
    {
     "name": "stdout",
     "output_type": "stream",
     "text": [
      "enterprise\n",
      "1    0.614351\n",
      "2    0.385649\n",
      "Name: enterprise, dtype: float64\n",
      "\n",
      "msaType\n",
      "1    0.89862\n",
      "0    0.10138\n",
      "Name: msaType, dtype: float64\n",
      "\n",
      "censusTractPctMinority\n",
      "2    0.384750\n",
      "3    0.314075\n",
      "1    0.300736\n",
      "9    0.000439\n",
      "Name: censusTractPctMinority, dtype: float64\n",
      "\n",
      "tractIncomeRatio\n",
      "2    0.445323\n",
      "3    0.428073\n",
      "1    0.125781\n",
      "9    0.000822\n",
      "Name: tractIncomeRatio, dtype: float64\n",
      "\n",
      "borrowerIncomeRatio\n",
      "3    0.698373\n",
      "2    0.204127\n",
      "1    0.085976\n",
      "9    0.011524\n",
      "Name: borrowerIncomeRatio, dtype: float64\n",
      "\n",
      "dateAcquiredVsDateOriginated\n",
      "1    0.875048\n",
      "2    0.124949\n",
      "9    0.000002\n",
      "Name: dateAcquiredVsDateOriginated, dtype: float64\n",
      "\n",
      "loanPurpose\n",
      "2    0.673803\n",
      "1    0.321573\n",
      "9    0.004068\n",
      "3    0.000336\n",
      "4    0.000219\n",
      "Name: loanPurpose, dtype: float64\n",
      "\n",
      "federalGuarantee\n",
      "4    9.925507e-01\n",
      "3    4.003222e-03\n",
      "1    2.580703e-03\n",
      "2    8.653017e-04\n",
      "5    8.433739e-08\n",
      "Name: federalGuarantee, dtype: float64\n",
      "\n",
      "sellerInstitutionType\n",
      "3    0.500371\n",
      "1    0.396610\n",
      "2    0.054516\n",
      "4    0.033149\n",
      "5    0.015355\n",
      "Name: sellerInstitutionType, dtype: float64\n",
      "\n",
      "borrowerRaceOriginEthnicity\n",
      "5    0.705604\n",
      "9    0.121107\n",
      "2    0.066185\n",
      "7    0.063400\n",
      "3    0.030778\n",
      "6    0.007947\n",
      "4    0.002746\n",
      "1    0.002233\n",
      "Name: borrowerRaceOriginEthnicity, dtype: float64\n",
      "\n",
      "coborrowerRaceOriginEthnicity\n",
      "9    0.526996\n",
      "5    0.393058\n",
      "2    0.032478\n",
      "7    0.029664\n",
      "3    0.009084\n",
      "6    0.006305\n",
      "4    0.001466\n",
      "1    0.000948\n",
      "Name: coborrowerRaceOriginEthnicity, dtype: float64\n",
      "\n",
      "borrowerGender\n",
      "1    0.663065\n",
      "2    0.261357\n",
      "3    0.067776\n",
      "9    0.006800\n",
      "4    0.001002\n",
      "Name: borrowerGender, dtype: float64\n",
      "\n",
      "coborrowerGender\n",
      "4    0.458721\n",
      "2    0.414548\n",
      "1    0.083230\n",
      "3    0.039460\n",
      "9    0.004041\n",
      "Name: coborrowerGender, dtype: float64\n",
      "\n",
      "occupancyCode\n",
      "1    0.898924\n",
      "3    0.090292\n",
      "2    0.010783\n",
      "Name: occupancyCode, dtype: float64\n",
      "\n",
      "numberOfUnits\n",
      "1    0.952693\n",
      "2    0.028084\n",
      "4    0.010543\n",
      "3    0.008680\n",
      "Name: numberOfUnits, dtype: float64\n",
      "\n",
      "ownerOccupied\n",
      "1    0.898924\n",
      "2    0.101076\n",
      "Name: ownerOccupied, dtype: float64\n",
      "\n",
      "affordabilityCategory\n",
      "4    0.787028\n",
      "9    0.082031\n",
      "3    0.062685\n",
      "1    0.036447\n",
      "2    0.022341\n",
      "0    0.009467\n",
      "Name: affordabilityCategory, dtype: float64\n",
      "\n",
      "reportingYear\n",
      "2012    0.129877\n",
      "2009    0.127358\n",
      "2013    0.122476\n",
      "2010    0.103707\n",
      "2008    0.101967\n",
      "2011    0.094124\n",
      "2016    0.090989\n",
      "2015    0.080949\n",
      "2017    0.080631\n",
      "2014    0.067921\n",
      "Name: reportingYear, dtype: float64\n",
      "\n"
     ]
    }
   ],
   "source": [
    "### Check proportion of unique values in the same columns\n",
    "for col in df_all.columns:\n",
    "    print(col)\n",
    "    print(df_all[col].value_counts(normalize = True)) \n",
    "    print()"
   ]
  },
  {
   "cell_type": "markdown",
   "metadata": {},
   "source": [
    "#### According to above results, we could find:\n",
    "    1. Fannie Mae loan takes up to nearly 61%, about 1.5 times than Freddie Mac.\n",
    "    2. Around 90% of properties are in metropolitan area.\n",
    "    3. Near 70% of the loans associated with the borrower's income ratio over 80%.\n",
    "    4. Refinancing loan (67%) is over twice as many as Purchase loan (32%).\n",
    "    5. Half of the mortgages are from Bank Insurance Fund (BIF)-insured depository institution.\n",
    "    6. 70% of the borrowers are Caucasioan people. \n",
    "    7. 90% of the properties are owner occupied.\n",
    "    8. There are higher number of loans in 2009, 20012 and 2013, which accounts for more than one third of the loans,while 2014 has the least number of loans which only take up to 6.8%."
   ]
  },
  {
   "cell_type": "code",
   "execution_count": 9,
   "metadata": {},
   "outputs": [
    {
     "data": {
      "text/plain": [
       "enterprise                       0\n",
       "id                               0\n",
       "msaType                          0\n",
       "censusTractPctMinority           0\n",
       "tractIncomeRatio                 0\n",
       "borrowerIncomeRatio              0\n",
       "dateAcquiredVsDateOriginated     0\n",
       "loanPurpose                      0\n",
       "federalGuarantee                 0\n",
       "sellerInstitutionType            0\n",
       "borrowerRaceOriginEthnicity      0\n",
       "coborrowerRaceOriginEthnicity    0\n",
       "borrowerGender                   0\n",
       "coborrowerGender                 0\n",
       "occupancyCode                    0\n",
       "numberOfUnits                    0\n",
       "ownerOccupied                    0\n",
       "affordabilityCategory            0\n",
       "reportingYear                    0\n",
       "dtype: int64"
      ]
     },
     "execution_count": 9,
     "metadata": {},
     "output_type": "execute_result"
    }
   ],
   "source": [
    "# check null values\n",
    "df_all.isnull().sum() "
   ]
  },
  {
   "cell_type": "code",
   "execution_count": 10,
   "metadata": {},
   "outputs": [],
   "source": [
    "# Based on the \"enterprise\" columns to create the 'is_Fannie\". \n",
    "df_all['is_Fannie'] = df_all['enterprise'] == 1 "
   ]
  },
  {
   "cell_type": "code",
   "execution_count": 13,
   "metadata": {},
   "outputs": [
    {
     "data": {
      "text/plain": [
       "True     0.614351\n",
       "False    0.385649\n",
       "Name: is_Fannie, dtype: float64"
      ]
     },
     "execution_count": 13,
     "metadata": {},
     "output_type": "execute_result"
    }
   ],
   "source": [
    "df_all['is_Fannie'].value_counts(normalize = True)"
   ]
  },
  {
   "cell_type": "markdown",
   "metadata": {},
   "source": [
    "There are 61% of loan is Fannie"
   ]
  },
  {
   "cell_type": "code",
   "execution_count": 39,
   "metadata": {
    "scrolled": true
   },
   "outputs": [
    {
     "ename": "KeyError",
     "evalue": "'Enterprise'",
     "output_type": "error",
     "traceback": [
      "\u001b[1;31m---------------------------------------------------------------------------\u001b[0m",
      "\u001b[1;31mKeyError\u001b[0m                                  Traceback (most recent call last)",
      "\u001b[1;32m~\\Anaconda3\\lib\\site-packages\\pandas\\core\\indexes\\base.py\u001b[0m in \u001b[0;36mget_loc\u001b[1;34m(self, key, method, tolerance)\u001b[0m\n\u001b[0;32m   2645\u001b[0m             \u001b[1;32mtry\u001b[0m\u001b[1;33m:\u001b[0m\u001b[1;33m\u001b[0m\u001b[1;33m\u001b[0m\u001b[0m\n\u001b[1;32m-> 2646\u001b[1;33m                 \u001b[1;32mreturn\u001b[0m \u001b[0mself\u001b[0m\u001b[1;33m.\u001b[0m\u001b[0m_engine\u001b[0m\u001b[1;33m.\u001b[0m\u001b[0mget_loc\u001b[0m\u001b[1;33m(\u001b[0m\u001b[0mkey\u001b[0m\u001b[1;33m)\u001b[0m\u001b[1;33m\u001b[0m\u001b[1;33m\u001b[0m\u001b[0m\n\u001b[0m\u001b[0;32m   2647\u001b[0m             \u001b[1;32mexcept\u001b[0m \u001b[0mKeyError\u001b[0m\u001b[1;33m:\u001b[0m\u001b[1;33m\u001b[0m\u001b[1;33m\u001b[0m\u001b[0m\n",
      "\u001b[1;32mpandas\\_libs\\index.pyx\u001b[0m in \u001b[0;36mpandas._libs.index.IndexEngine.get_loc\u001b[1;34m()\u001b[0m\n",
      "\u001b[1;32mpandas\\_libs\\index.pyx\u001b[0m in \u001b[0;36mpandas._libs.index.IndexEngine.get_loc\u001b[1;34m()\u001b[0m\n",
      "\u001b[1;32mpandas\\_libs\\hashtable_class_helper.pxi\u001b[0m in \u001b[0;36mpandas._libs.hashtable.PyObjectHashTable.get_item\u001b[1;34m()\u001b[0m\n",
      "\u001b[1;32mpandas\\_libs\\hashtable_class_helper.pxi\u001b[0m in \u001b[0;36mpandas._libs.hashtable.PyObjectHashTable.get_item\u001b[1;34m()\u001b[0m\n",
      "\u001b[1;31mKeyError\u001b[0m: 'Enterprise'",
      "\nDuring handling of the above exception, another exception occurred:\n",
      "\u001b[1;31mKeyError\u001b[0m                                  Traceback (most recent call last)",
      "\u001b[1;32m<ipython-input-39-d4ad0ff4830b>\u001b[0m in \u001b[0;36m<module>\u001b[1;34m\u001b[0m\n\u001b[0;32m      1\u001b[0m \u001b[1;31m### delete the useless columns\u001b[0m\u001b[1;33m\u001b[0m\u001b[1;33m\u001b[0m\u001b[1;33m\u001b[0m\u001b[0m\n\u001b[1;32m----> 2\u001b[1;33m \u001b[1;32mdel\u001b[0m \u001b[0mdf_all\u001b[0m\u001b[1;33m[\u001b[0m\u001b[1;34m'Enterprise'\u001b[0m\u001b[1;33m]\u001b[0m\u001b[1;33m\u001b[0m\u001b[1;33m\u001b[0m\u001b[0m\n\u001b[0m",
      "\u001b[1;32m~\\Anaconda3\\lib\\site-packages\\pandas\\core\\generic.py\u001b[0m in \u001b[0;36m__delitem__\u001b[1;34m(self, key)\u001b[0m\n\u001b[0;32m   3757\u001b[0m             \u001b[1;31m# there was no match, this call should raise the appropriate\u001b[0m\u001b[1;33m\u001b[0m\u001b[1;33m\u001b[0m\u001b[1;33m\u001b[0m\u001b[0m\n\u001b[0;32m   3758\u001b[0m             \u001b[1;31m# exception:\u001b[0m\u001b[1;33m\u001b[0m\u001b[1;33m\u001b[0m\u001b[1;33m\u001b[0m\u001b[0m\n\u001b[1;32m-> 3759\u001b[1;33m             \u001b[0mself\u001b[0m\u001b[1;33m.\u001b[0m\u001b[0m_data\u001b[0m\u001b[1;33m.\u001b[0m\u001b[0mdelete\u001b[0m\u001b[1;33m(\u001b[0m\u001b[0mkey\u001b[0m\u001b[1;33m)\u001b[0m\u001b[1;33m\u001b[0m\u001b[1;33m\u001b[0m\u001b[0m\n\u001b[0m\u001b[0;32m   3760\u001b[0m \u001b[1;33m\u001b[0m\u001b[0m\n\u001b[0;32m   3761\u001b[0m         \u001b[1;31m# delete from the caches\u001b[0m\u001b[1;33m\u001b[0m\u001b[1;33m\u001b[0m\u001b[1;33m\u001b[0m\u001b[0m\n",
      "\u001b[1;32m~\\Anaconda3\\lib\\site-packages\\pandas\\core\\internals\\managers.py\u001b[0m in \u001b[0;36mdelete\u001b[1;34m(self, item)\u001b[0m\n\u001b[0;32m   1000\u001b[0m         \u001b[0mDelete\u001b[0m \u001b[0mselected\u001b[0m \u001b[0mitem\u001b[0m \u001b[1;33m(\u001b[0m\u001b[0mitems\u001b[0m \u001b[1;32mif\u001b[0m \u001b[0mnon\u001b[0m\u001b[1;33m-\u001b[0m\u001b[0munique\u001b[0m\u001b[1;33m)\u001b[0m \u001b[1;32min\u001b[0m\u001b[1;33m-\u001b[0m\u001b[0mplace\u001b[0m\u001b[1;33m.\u001b[0m\u001b[1;33m\u001b[0m\u001b[1;33m\u001b[0m\u001b[0m\n\u001b[0;32m   1001\u001b[0m         \"\"\"\n\u001b[1;32m-> 1002\u001b[1;33m         \u001b[0mindexer\u001b[0m \u001b[1;33m=\u001b[0m \u001b[0mself\u001b[0m\u001b[1;33m.\u001b[0m\u001b[0mitems\u001b[0m\u001b[1;33m.\u001b[0m\u001b[0mget_loc\u001b[0m\u001b[1;33m(\u001b[0m\u001b[0mitem\u001b[0m\u001b[1;33m)\u001b[0m\u001b[1;33m\u001b[0m\u001b[1;33m\u001b[0m\u001b[0m\n\u001b[0m\u001b[0;32m   1003\u001b[0m \u001b[1;33m\u001b[0m\u001b[0m\n\u001b[0;32m   1004\u001b[0m         \u001b[0mis_deleted\u001b[0m \u001b[1;33m=\u001b[0m \u001b[0mnp\u001b[0m\u001b[1;33m.\u001b[0m\u001b[0mzeros\u001b[0m\u001b[1;33m(\u001b[0m\u001b[0mself\u001b[0m\u001b[1;33m.\u001b[0m\u001b[0mshape\u001b[0m\u001b[1;33m[\u001b[0m\u001b[1;36m0\u001b[0m\u001b[1;33m]\u001b[0m\u001b[1;33m,\u001b[0m \u001b[0mdtype\u001b[0m\u001b[1;33m=\u001b[0m\u001b[0mnp\u001b[0m\u001b[1;33m.\u001b[0m\u001b[0mbool_\u001b[0m\u001b[1;33m)\u001b[0m\u001b[1;33m\u001b[0m\u001b[1;33m\u001b[0m\u001b[0m\n",
      "\u001b[1;32m~\\Anaconda3\\lib\\site-packages\\pandas\\core\\indexes\\base.py\u001b[0m in \u001b[0;36mget_loc\u001b[1;34m(self, key, method, tolerance)\u001b[0m\n\u001b[0;32m   2646\u001b[0m                 \u001b[1;32mreturn\u001b[0m \u001b[0mself\u001b[0m\u001b[1;33m.\u001b[0m\u001b[0m_engine\u001b[0m\u001b[1;33m.\u001b[0m\u001b[0mget_loc\u001b[0m\u001b[1;33m(\u001b[0m\u001b[0mkey\u001b[0m\u001b[1;33m)\u001b[0m\u001b[1;33m\u001b[0m\u001b[1;33m\u001b[0m\u001b[0m\n\u001b[0;32m   2647\u001b[0m             \u001b[1;32mexcept\u001b[0m \u001b[0mKeyError\u001b[0m\u001b[1;33m:\u001b[0m\u001b[1;33m\u001b[0m\u001b[1;33m\u001b[0m\u001b[0m\n\u001b[1;32m-> 2648\u001b[1;33m                 \u001b[1;32mreturn\u001b[0m \u001b[0mself\u001b[0m\u001b[1;33m.\u001b[0m\u001b[0m_engine\u001b[0m\u001b[1;33m.\u001b[0m\u001b[0mget_loc\u001b[0m\u001b[1;33m(\u001b[0m\u001b[0mself\u001b[0m\u001b[1;33m.\u001b[0m\u001b[0m_maybe_cast_indexer\u001b[0m\u001b[1;33m(\u001b[0m\u001b[0mkey\u001b[0m\u001b[1;33m)\u001b[0m\u001b[1;33m)\u001b[0m\u001b[1;33m\u001b[0m\u001b[1;33m\u001b[0m\u001b[0m\n\u001b[0m\u001b[0;32m   2649\u001b[0m         \u001b[0mindexer\u001b[0m \u001b[1;33m=\u001b[0m \u001b[0mself\u001b[0m\u001b[1;33m.\u001b[0m\u001b[0mget_indexer\u001b[0m\u001b[1;33m(\u001b[0m\u001b[1;33m[\u001b[0m\u001b[0mkey\u001b[0m\u001b[1;33m]\u001b[0m\u001b[1;33m,\u001b[0m \u001b[0mmethod\u001b[0m\u001b[1;33m=\u001b[0m\u001b[0mmethod\u001b[0m\u001b[1;33m,\u001b[0m \u001b[0mtolerance\u001b[0m\u001b[1;33m=\u001b[0m\u001b[0mtolerance\u001b[0m\u001b[1;33m)\u001b[0m\u001b[1;33m\u001b[0m\u001b[1;33m\u001b[0m\u001b[0m\n\u001b[0;32m   2650\u001b[0m         \u001b[1;32mif\u001b[0m \u001b[0mindexer\u001b[0m\u001b[1;33m.\u001b[0m\u001b[0mndim\u001b[0m \u001b[1;33m>\u001b[0m \u001b[1;36m1\u001b[0m \u001b[1;32mor\u001b[0m \u001b[0mindexer\u001b[0m\u001b[1;33m.\u001b[0m\u001b[0msize\u001b[0m \u001b[1;33m>\u001b[0m \u001b[1;36m1\u001b[0m\u001b[1;33m:\u001b[0m\u001b[1;33m\u001b[0m\u001b[1;33m\u001b[0m\u001b[0m\n",
      "\u001b[1;32mpandas\\_libs\\index.pyx\u001b[0m in \u001b[0;36mpandas._libs.index.IndexEngine.get_loc\u001b[1;34m()\u001b[0m\n",
      "\u001b[1;32mpandas\\_libs\\index.pyx\u001b[0m in \u001b[0;36mpandas._libs.index.IndexEngine.get_loc\u001b[1;34m()\u001b[0m\n",
      "\u001b[1;32mpandas\\_libs\\hashtable_class_helper.pxi\u001b[0m in \u001b[0;36mpandas._libs.hashtable.PyObjectHashTable.get_item\u001b[1;34m()\u001b[0m\n",
      "\u001b[1;32mpandas\\_libs\\hashtable_class_helper.pxi\u001b[0m in \u001b[0;36mpandas._libs.hashtable.PyObjectHashTable.get_item\u001b[1;34m()\u001b[0m\n",
      "\u001b[1;31mKeyError\u001b[0m: 'Enterprise'"
     ]
    }
   ],
   "source": [
    "### delete the useless columns\n",
    "del df_all['Enterprise']"
   ]
  },
  {
   "cell_type": "code",
   "execution_count": 21,
   "metadata": {},
   "outputs": [],
   "source": [
    "value_counts = df_all['is_Fannie'].value_counts(normalize = True)"
   ]
  },
  {
   "cell_type": "code",
   "execution_count": 15,
   "metadata": {},
   "outputs": [],
   "source": [
    "value_counts2 = df_all['is_Fannie'].value_counts(normalize = False)"
   ]
  },
  {
   "cell_type": "code",
   "execution_count": 16,
   "metadata": {},
   "outputs": [
    {
     "data": {
      "text/plain": [
       "True     29137795\n",
       "False    18290752\n",
       "Name: is_Fannie, dtype: int64"
      ]
     },
     "execution_count": 16,
     "metadata": {},
     "output_type": "execute_result"
    }
   ],
   "source": [
    "value_counts2"
   ]
  },
  {
   "cell_type": "code",
   "execution_count": 18,
   "metadata": {},
   "outputs": [],
   "source": [
    "#### Draw a pie graph to see the proportion of fannie and freddie\n",
    "import matplotlib.pyplot as plt"
   ]
  },
  {
   "cell_type": "code",
   "execution_count": 28,
   "metadata": {},
   "outputs": [
    {
     "data": {
      "image/png": "[encoded data removed]",
      "text/plain": [
       "<Figure size 432x288 with 1 Axes>"
      ]
     },
     "metadata": {},
     "output_type": "display_data"
    }
   ],
   "source": [
    "labels = 'Fannie Mae', 'Freddie Mac'\n",
    "sizes = [value_counts[True],value_counts[False]]\n",
    "explode = (0,1)  # only \"explode\" the 2nd slice (i.e. 'Hogs')\n",
    "patches,text1,text2 = plt.pie(sizes,\n",
    "                      explode=explode,\n",
    "                      labels=labels,\n",
    "                      autopct = '%3.2f%%', #数值保留固定小数位\n",
    "                      shadow = False, #无阴影设置\n",
    "                      startangle =90, #逆时针起始角度设置\n",
    "                      pctdistance = 0.5) #数值距圆心半径倍数的距离\n",
    "plt.axis('equal')\n",
    "plt.show()"
   ]
  },
  {
   "cell_type": "code",
   "execution_count": 31,
   "metadata": {},
   "outputs": [
    {
     "name": "stdout",
     "output_type": "stream",
     "text": [
      "             mean     count\n",
      "msaType                    \n",
      "0        0.584617   4808299\n",
      "1        0.617706  42620248\n",
      "                            mean     count\n",
      "censusTractPctMinority                    \n",
      "1                       0.586766  14263485\n",
      "2                       0.617217  18248144\n",
      "3                       0.637172  14896099\n",
      "9                       0.673856     20819\n",
      "                      mean     count\n",
      "tractIncomeRatio                    \n",
      "1                 0.632398   5965624\n",
      "2                 0.608218  21121042\n",
      "3                 0.615384  20302902\n",
      "9                 0.638190     38979\n",
      "                         mean     count\n",
      "borrowerIncomeRatio                    \n",
      "1                    0.629119   4077731\n",
      "2                    0.622158   9681450\n",
      "3                    0.612810  33122803\n",
      "9                    0.459316    546563\n",
      "                                  mean     count\n",
      "dateAcquiredVsDateOriginated                    \n",
      "1                             0.618592  41502261\n",
      "2                             0.584643   5926168\n",
      "9                             1.000000       118\n",
      "                 mean     count\n",
      "loanPurpose                    \n",
      "1            0.615401  15251747\n",
      "2            0.611302  31957512\n",
      "3            0.995731     15929\n",
      "4            1.000000     10406\n",
      "9            0.984167    192953\n",
      "                      mean     count\n",
      "federalGuarantee                    \n",
      "1                 0.442741    122399\n",
      "2                 0.414839     41040\n",
      "3                 1.000000    189867\n",
      "4                 0.613416  47075237\n",
      "5                 1.000000         4\n",
      "                           mean     count\n",
      "sellerInstitutionType                    \n",
      "1                      0.693375  18810618\n",
      "2                      0.744532   2585593\n",
      "3                      0.520169  23731847\n",
      "4                      0.762445   1572211\n",
      "5                      0.860416    728278\n",
      "                                 mean     count\n",
      "borrowerRaceOriginEthnicity                    \n",
      "1                            0.713300    105912\n",
      "2                            0.636262   3139069\n",
      "3                            0.661966   1459738\n",
      "4                            0.688329    130256\n",
      "5                            0.608923  33465784\n",
      "6                            0.236059    376902\n",
      "7                            0.637819   3006979\n",
      "9                            0.630938   5743907\n",
      "                                   mean     count\n",
      "coborrowerRaceOriginEthnicity                    \n",
      "1                              0.785271     44973\n",
      "2                              0.658161   1540403\n",
      "3                              0.667155    430858\n",
      "4                              0.748806     69536\n",
      "5                              0.602188  18642180\n",
      "6                              0.129978    299043\n",
      "7                              0.633947   1406904\n",
      "9                              0.623824  24994650\n",
      "                    mean     count\n",
      "borrowerGender                    \n",
      "1               0.609457  31448212\n",
      "2               0.625565  12395770\n",
      "3               0.646899   3214518\n",
      "4               0.956121     47517\n",
      "9               0.285877    322530\n",
      "                      mean     count\n",
      "coborrowerGender                    \n",
      "1                 0.629626   3947460\n",
      "2                 0.603807  19661429\n",
      "3                 0.645373   1871525\n",
      "4                 0.620103  21756457\n",
      "9                 0.425588    191676\n",
      "                   mean     count\n",
      "occupancyCode                    \n",
      "1              0.610498  42634666\n",
      "2              0.651070    511440\n",
      "3              0.648327   4282441\n",
      "                   mean     count\n",
      "numberOfUnits                    \n",
      "1              0.612946  45184857\n",
      "2              0.643774   1331970\n",
      "3              0.630535    411660\n",
      "4              0.649626    500060\n",
      "                   mean     count\n",
      "ownerOccupied                    \n",
      "1              0.610498  42634666\n",
      "2              0.648620   4793881\n",
      "                           mean     count\n",
      "affordabilityCategory                    \n",
      "0                      0.700712    449009\n",
      "1                      0.644887   1728634\n",
      "2                      0.640097   1059613\n",
      "3                      0.621629   2973075\n",
      "4                      0.671117  37327594\n",
      "9                      0.033624   3890622\n",
      "                   mean    count\n",
      "reportingYear                   \n",
      "2008           0.598382  4836170\n",
      "2009           0.592542  6040400\n",
      "2010           0.607387  4918656\n",
      "2011           0.634991  4464166\n",
      "2012           0.660712  6159887\n",
      "2013           0.637457  5808871\n",
      "2014           0.611569  3221408\n",
      "2015           0.577797  3839312\n",
      "2016           0.601844  4315462\n",
      "2017           0.597242  3824215\n"
     ]
    }
   ],
   "source": [
    "#### Check the Fannie Loans status\n",
    "\n",
    "for col in df_all.columns[1:-1]:\n",
    "    print(df_all.groupby(col)['is_Fannie'].agg(['mean', 'count']))"
   ]
  },
  {
   "cell_type": "markdown",
   "metadata": {},
   "source": [
    "#### According to above Results\n",
    "1. If the purpose of the loan is secondary mortgage, 99.57% of it is through Fannie Mae. (coded as 3 in 'loanPurpose')\n",
    "2. Freddie Mac doesn't have loans with Home Improvement/Rehabilitation. (coded as 4 in 'loanPurpose').\n",
    "3. If the loan is Home Equity Conversion Mortgage (HECM) or Title 1 – FHA, it is Fannie Mae loan. (coded as 3, 5 in  'federalGuarantee')\n",
    "4. Fannie Mae occupied less than 25% of loans among the borrower/co-borrower who claim as two or more races.\n",
    "5. From 2008 to 2017, the market share for Fannie Mae remained stable around 60%."
   ]
  },
  {
   "cell_type": "code",
   "execution_count": 33,
   "metadata": {
    "scrolled": true
   },
   "outputs": [
    {
     "data": {
      "text/html": [
       "<div>\n",
       "<style scoped>\n",
       "    .dataframe tbody tr th:only-of-type {\n",
       "        vertical-align: middle;\n",
       "    }\n",
       "\n",
       "    .dataframe tbody tr th {\n",
       "        vertical-align: top;\n",
       "    }\n",
       "\n",
       "    .dataframe thead th {\n",
       "        text-align: right;\n",
       "    }\n",
       "</style>\n",
       "<table border=\"1\" class=\"dataframe\">\n",
       "  <thead>\n",
       "    <tr style=\"text-align: right;\">\n",
       "      <th>loanPurpose</th>\n",
       "      <th>1</th>\n",
       "      <th>2</th>\n",
       "      <th>3</th>\n",
       "      <th>4</th>\n",
       "      <th>9</th>\n",
       "    </tr>\n",
       "    <tr>\n",
       "      <th>reportingYear</th>\n",
       "      <th></th>\n",
       "      <th></th>\n",
       "      <th></th>\n",
       "      <th></th>\n",
       "      <th></th>\n",
       "    </tr>\n",
       "  </thead>\n",
       "  <tbody>\n",
       "    <tr>\n",
       "      <th>2008</th>\n",
       "      <td>0.594383</td>\n",
       "      <td>0.583315</td>\n",
       "      <td>0.507246</td>\n",
       "      <td>1.0</td>\n",
       "      <td>0.997730</td>\n",
       "    </tr>\n",
       "    <tr>\n",
       "      <th>2009</th>\n",
       "      <td>0.599820</td>\n",
       "      <td>0.584795</td>\n",
       "      <td>NaN</td>\n",
       "      <td>1.0</td>\n",
       "      <td>0.997669</td>\n",
       "    </tr>\n",
       "    <tr>\n",
       "      <th>2010</th>\n",
       "      <td>0.610576</td>\n",
       "      <td>0.604795</td>\n",
       "      <td>1.000000</td>\n",
       "      <td>1.0</td>\n",
       "      <td>0.887578</td>\n",
       "    </tr>\n",
       "    <tr>\n",
       "      <th>2011</th>\n",
       "      <td>0.647982</td>\n",
       "      <td>0.631019</td>\n",
       "      <td>NaN</td>\n",
       "      <td>1.0</td>\n",
       "      <td>0.000000</td>\n",
       "    </tr>\n",
       "    <tr>\n",
       "      <th>2012</th>\n",
       "      <td>0.700485</td>\n",
       "      <td>0.651081</td>\n",
       "      <td>NaN</td>\n",
       "      <td>1.0</td>\n",
       "      <td>0.000000</td>\n",
       "    </tr>\n",
       "    <tr>\n",
       "      <th>2013</th>\n",
       "      <td>0.661893</td>\n",
       "      <td>0.628738</td>\n",
       "      <td>NaN</td>\n",
       "      <td>1.0</td>\n",
       "      <td>0.000000</td>\n",
       "    </tr>\n",
       "    <tr>\n",
       "      <th>2014</th>\n",
       "      <td>0.602633</td>\n",
       "      <td>0.619568</td>\n",
       "      <td>NaN</td>\n",
       "      <td>1.0</td>\n",
       "      <td>NaN</td>\n",
       "    </tr>\n",
       "    <tr>\n",
       "      <th>2015</th>\n",
       "      <td>0.587405</td>\n",
       "      <td>0.570104</td>\n",
       "      <td>NaN</td>\n",
       "      <td>1.0</td>\n",
       "      <td>NaN</td>\n",
       "    </tr>\n",
       "    <tr>\n",
       "      <th>2016</th>\n",
       "      <td>0.601654</td>\n",
       "      <td>0.601693</td>\n",
       "      <td>NaN</td>\n",
       "      <td>1.0</td>\n",
       "      <td>0.000000</td>\n",
       "    </tr>\n",
       "    <tr>\n",
       "      <th>2017</th>\n",
       "      <td>0.591471</td>\n",
       "      <td>0.603658</td>\n",
       "      <td>NaN</td>\n",
       "      <td>1.0</td>\n",
       "      <td>0.000000</td>\n",
       "    </tr>\n",
       "  </tbody>\n",
       "</table>\n",
       "</div>"
      ],
      "text/plain": [
       "loanPurpose           1         2         3    4         9\n",
       "reportingYear                                             \n",
       "2008           0.594383  0.583315  0.507246  1.0  0.997730\n",
       "2009           0.599820  0.584795       NaN  1.0  0.997669\n",
       "2010           0.610576  0.604795  1.000000  1.0  0.887578\n",
       "2011           0.647982  0.631019       NaN  1.0  0.000000\n",
       "2012           0.700485  0.651081       NaN  1.0  0.000000\n",
       "2013           0.661893  0.628738       NaN  1.0  0.000000\n",
       "2014           0.602633  0.619568       NaN  1.0       NaN\n",
       "2015           0.587405  0.570104       NaN  1.0       NaN\n",
       "2016           0.601654  0.601693       NaN  1.0  0.000000\n",
       "2017           0.591471  0.603658       NaN  1.0  0.000000"
      ]
     },
     "execution_count": 33,
     "metadata": {},
     "output_type": "execute_result"
    }
   ],
   "source": [
    "### Each year how much percentage of Fannie loan in different purpose\n",
    "\n",
    "import numpy as np\n",
    "pd.pivot_table(df_all, values='is_Fannie', index=['reportingYear'],\n",
    "                    columns=['loanPurpose'], aggfunc=np.mean)"
   ]
  },
  {
   "cell_type": "code",
   "execution_count": 34,
   "metadata": {
    "scrolled": true
   },
   "outputs": [
    {
     "name": "stderr",
     "output_type": "stream",
     "text": [
      "C:\\Users\\ydzco\\Anaconda3\\lib\\site-packages\\statsmodels\\tools\\_testing.py:19: FutureWarning: pandas.util.testing is deprecated. Use the functions in the public API at pandas.testing instead.\n",
      "  import pandas.util.testing as tm\n"
     ]
    },
    {
     "data": {
      "text/plain": [
       "<matplotlib.axes._subplots.AxesSubplot at 0x16c81f3d048>"
      ]
     },
     "execution_count": 34,
     "metadata": {},
     "output_type": "execute_result"
    },
    {
     "data": {
      "image/png": "[encoded data removed]",
      "text/plain": [
       "<Figure size 432x288 with 1 Axes>"
      ]
     },
     "metadata": {
      "needs_background": "light"
     },
     "output_type": "display_data"
    }
   ],
   "source": [
    "###graphic how many fannie loans each years\n",
    "\n",
    "import seaborn as sns\n",
    "sns.countplot(x = 'reportingYear', data = df_all, hue = 'is_Fannie')"
   ]
  },
  {
   "cell_type": "code",
   "execution_count": 43,
   "metadata": {},
   "outputs": [],
   "source": [
    "##### randomly select 100000 samples for training\n",
    "df = df_all.sample(100000,random_state=42)  "
   ]
  },
  {
   "cell_type": "code",
   "execution_count": 45,
   "metadata": {
    "scrolled": true
   },
   "outputs": [],
   "source": [
    "del df['id']"
   ]
  },
  {
   "cell_type": "code",
   "execution_count": 47,
   "metadata": {},
   "outputs": [
    {
     "name": "stdout",
     "output_type": "stream",
     "text": [
      "msaType number of categories:  2\n",
      "censusTractPctMinority number of categories:  4\n",
      "tractIncomeRatio number of categories:  4\n",
      "borrowerIncomeRatio number of categories:  4\n",
      "dateAcquiredVsDateOriginated number of categories:  3\n",
      "loanPurpose number of categories:  5\n",
      "federalGuarantee number of categories:  5\n",
      "sellerInstitutionType number of categories:  5\n",
      "borrowerRaceOriginEthnicity number of categories:  8\n",
      "coborrowerRaceOriginEthnicity number of categories:  8\n",
      "borrowerGender number of categories:  5\n",
      "coborrowerGender number of categories:  5\n",
      "occupancyCode number of categories:  3\n",
      "numberOfUnits number of categories:  4\n",
      "ownerOccupied number of categories:  2\n",
      "affordabilityCategory number of categories:  6\n",
      "reportingYear number of categories:  10\n"
     ]
    }
   ],
   "source": [
    "### Use one-hot coding to process categorical data.\n",
    "X_dummies = []\n",
    "for col in df.columns[0:-1]:\n",
    "    print(col, \"number of categories: \", df_all[col].value_counts().shape[0])\n",
    "    df_dummies = pd.get_dummies(df[col], prefix =  col + \"_is\", drop_first = True)\n",
    "    X_dummies.append(df_dummies)\n",
    "X = pd.concat(X_dummies, axis = 1)"
   ]
  },
  {
   "cell_type": "code",
   "execution_count": 48,
   "metadata": {},
   "outputs": [
    {
     "data": {
      "text/html": [
       "<div>\n",
       "<style scoped>\n",
       "    .dataframe tbody tr th:only-of-type {\n",
       "        vertical-align: middle;\n",
       "    }\n",
       "\n",
       "    .dataframe tbody tr th {\n",
       "        vertical-align: top;\n",
       "    }\n",
       "\n",
       "    .dataframe thead th {\n",
       "        text-align: right;\n",
       "    }\n",
       "</style>\n",
       "<table border=\"1\" class=\"dataframe\">\n",
       "  <thead>\n",
       "    <tr style=\"text-align: right;\">\n",
       "      <th></th>\n",
       "      <th>msaType_is_1</th>\n",
       "      <th>censusTractPctMinority_is_2</th>\n",
       "      <th>censusTractPctMinority_is_3</th>\n",
       "      <th>censusTractPctMinority_is_9</th>\n",
       "      <th>tractIncomeRatio_is_2</th>\n",
       "      <th>tractIncomeRatio_is_3</th>\n",
       "      <th>tractIncomeRatio_is_9</th>\n",
       "      <th>borrowerIncomeRatio_is_2</th>\n",
       "      <th>borrowerIncomeRatio_is_3</th>\n",
       "      <th>borrowerIncomeRatio_is_9</th>\n",
       "      <th>...</th>\n",
       "      <th>affordabilityCategory_is_9</th>\n",
       "      <th>reportingYear_is_2009</th>\n",
       "      <th>reportingYear_is_2010</th>\n",
       "      <th>reportingYear_is_2011</th>\n",
       "      <th>reportingYear_is_2012</th>\n",
       "      <th>reportingYear_is_2013</th>\n",
       "      <th>reportingYear_is_2014</th>\n",
       "      <th>reportingYear_is_2015</th>\n",
       "      <th>reportingYear_is_2016</th>\n",
       "      <th>reportingYear_is_2017</th>\n",
       "    </tr>\n",
       "  </thead>\n",
       "  <tbody>\n",
       "    <tr>\n",
       "      <th>248479</th>\n",
       "      <td>1</td>\n",
       "      <td>0</td>\n",
       "      <td>1</td>\n",
       "      <td>0</td>\n",
       "      <td>0</td>\n",
       "      <td>1</td>\n",
       "      <td>0</td>\n",
       "      <td>0</td>\n",
       "      <td>1</td>\n",
       "      <td>0</td>\n",
       "      <td>...</td>\n",
       "      <td>0</td>\n",
       "      <td>0</td>\n",
       "      <td>0</td>\n",
       "      <td>0</td>\n",
       "      <td>0</td>\n",
       "      <td>0</td>\n",
       "      <td>0</td>\n",
       "      <td>0</td>\n",
       "      <td>0</td>\n",
       "      <td>1</td>\n",
       "    </tr>\n",
       "    <tr>\n",
       "      <th>343618</th>\n",
       "      <td>1</td>\n",
       "      <td>0</td>\n",
       "      <td>1</td>\n",
       "      <td>0</td>\n",
       "      <td>0</td>\n",
       "      <td>1</td>\n",
       "      <td>0</td>\n",
       "      <td>0</td>\n",
       "      <td>1</td>\n",
       "      <td>0</td>\n",
       "      <td>...</td>\n",
       "      <td>0</td>\n",
       "      <td>0</td>\n",
       "      <td>0</td>\n",
       "      <td>1</td>\n",
       "      <td>0</td>\n",
       "      <td>0</td>\n",
       "      <td>0</td>\n",
       "      <td>0</td>\n",
       "      <td>0</td>\n",
       "      <td>0</td>\n",
       "    </tr>\n",
       "    <tr>\n",
       "      <th>1266655</th>\n",
       "      <td>1</td>\n",
       "      <td>0</td>\n",
       "      <td>0</td>\n",
       "      <td>0</td>\n",
       "      <td>1</td>\n",
       "      <td>0</td>\n",
       "      <td>0</td>\n",
       "      <td>0</td>\n",
       "      <td>1</td>\n",
       "      <td>0</td>\n",
       "      <td>...</td>\n",
       "      <td>0</td>\n",
       "      <td>1</td>\n",
       "      <td>0</td>\n",
       "      <td>0</td>\n",
       "      <td>0</td>\n",
       "      <td>0</td>\n",
       "      <td>0</td>\n",
       "      <td>0</td>\n",
       "      <td>0</td>\n",
       "      <td>0</td>\n",
       "    </tr>\n",
       "    <tr>\n",
       "      <th>1314929</th>\n",
       "      <td>1</td>\n",
       "      <td>1</td>\n",
       "      <td>0</td>\n",
       "      <td>0</td>\n",
       "      <td>1</td>\n",
       "      <td>0</td>\n",
       "      <td>0</td>\n",
       "      <td>0</td>\n",
       "      <td>1</td>\n",
       "      <td>0</td>\n",
       "      <td>...</td>\n",
       "      <td>0</td>\n",
       "      <td>0</td>\n",
       "      <td>0</td>\n",
       "      <td>0</td>\n",
       "      <td>0</td>\n",
       "      <td>0</td>\n",
       "      <td>0</td>\n",
       "      <td>0</td>\n",
       "      <td>0</td>\n",
       "      <td>1</td>\n",
       "    </tr>\n",
       "    <tr>\n",
       "      <th>738211</th>\n",
       "      <td>1</td>\n",
       "      <td>1</td>\n",
       "      <td>0</td>\n",
       "      <td>0</td>\n",
       "      <td>0</td>\n",
       "      <td>1</td>\n",
       "      <td>0</td>\n",
       "      <td>0</td>\n",
       "      <td>1</td>\n",
       "      <td>0</td>\n",
       "      <td>...</td>\n",
       "      <td>0</td>\n",
       "      <td>0</td>\n",
       "      <td>0</td>\n",
       "      <td>1</td>\n",
       "      <td>0</td>\n",
       "      <td>0</td>\n",
       "      <td>0</td>\n",
       "      <td>0</td>\n",
       "      <td>0</td>\n",
       "      <td>0</td>\n",
       "    </tr>\n",
       "  </tbody>\n",
       "</table>\n",
       "<p>5 rows × 64 columns</p>\n",
       "</div>"
      ],
      "text/plain": [
       "         msaType_is_1  censusTractPctMinority_is_2  \\\n",
       "248479              1                            0   \n",
       "343618              1                            0   \n",
       "1266655             1                            0   \n",
       "1314929             1                            1   \n",
       "738211              1                            1   \n",
       "\n",
       "         censusTractPctMinority_is_3  censusTractPctMinority_is_9  \\\n",
       "248479                             1                            0   \n",
       "343618                             1                            0   \n",
       "1266655                            0                            0   \n",
       "1314929                            0                            0   \n",
       "738211                             0                            0   \n",
       "\n",
       "         tractIncomeRatio_is_2  tractIncomeRatio_is_3  tractIncomeRatio_is_9  \\\n",
       "248479                       0                      1                      0   \n",
       "343618                       0                      1                      0   \n",
       "1266655                      1                      0                      0   \n",
       "1314929                      1                      0                      0   \n",
       "738211                       0                      1                      0   \n",
       "\n",
       "         borrowerIncomeRatio_is_2  borrowerIncomeRatio_is_3  \\\n",
       "248479                          0                         1   \n",
       "343618                          0                         1   \n",
       "1266655                         0                         1   \n",
       "1314929                         0                         1   \n",
       "738211                          0                         1   \n",
       "\n",
       "         borrowerIncomeRatio_is_9  ...  affordabilityCategory_is_9  \\\n",
       "248479                          0  ...                           0   \n",
       "343618                          0  ...                           0   \n",
       "1266655                         0  ...                           0   \n",
       "1314929                         0  ...                           0   \n",
       "738211                          0  ...                           0   \n",
       "\n",
       "         reportingYear_is_2009  reportingYear_is_2010  reportingYear_is_2011  \\\n",
       "248479                       0                      0                      0   \n",
       "343618                       0                      0                      1   \n",
       "1266655                      1                      0                      0   \n",
       "1314929                      0                      0                      0   \n",
       "738211                       0                      0                      1   \n",
       "\n",
       "         reportingYear_is_2012  reportingYear_is_2013  reportingYear_is_2014  \\\n",
       "248479                       0                      0                      0   \n",
       "343618                       0                      0                      0   \n",
       "1266655                      0                      0                      0   \n",
       "1314929                      0                      0                      0   \n",
       "738211                       0                      0                      0   \n",
       "\n",
       "         reportingYear_is_2015  reportingYear_is_2016  reportingYear_is_2017  \n",
       "248479                       0                      0                      1  \n",
       "343618                       0                      0                      0  \n",
       "1266655                      0                      0                      0  \n",
       "1314929                      0                      0                      1  \n",
       "738211                       0                      0                      0  \n",
       "\n",
       "[5 rows x 64 columns]"
      ]
     },
     "execution_count": 48,
     "metadata": {},
     "output_type": "execute_result"
    }
   ],
   "source": [
    "X.head()"
   ]
  },
  {
   "cell_type": "code",
   "execution_count": 55,
   "metadata": {},
   "outputs": [],
   "source": [
    "from sklearn.model_selection import train_test_split,GridSearchCV\n",
    "y = df['is_Fannie']\n",
    "X_train, X_test, y_train, y_test = train_test_split(X, y, test_size=0.5, random_state= 42)\n",
    "model_list = {} #to store the models"
   ]
  },
  {
   "cell_type": "code",
   "execution_count": 56,
   "metadata": {},
   "outputs": [
    {
     "name": "stdout",
     "output_type": "stream",
     "text": [
      "{'C': 10}\n"
     ]
    },
    {
     "name": "stderr",
     "output_type": "stream",
     "text": [
      "C:\\Users\\ydzco\\Anaconda3\\lib\\site-packages\\sklearn\\linear_model\\logistic.py:432: FutureWarning: Default solver will be changed to 'lbfgs' in 0.22. Specify a solver to silence this warning.\n",
      "  FutureWarning)\n"
     ]
    }
   ],
   "source": [
    "### Logistic Regression\n",
    "from sklearn.linear_model import LogisticRegression\n",
    "param_grid = {'C': [0.01,0.05,0.1,1,10]}\n",
    "grid = GridSearchCV(LogisticRegression(solver = 'liblinear'), param_grid, cv = 3, scoring = \"roc_auc\")\n",
    "grid.fit(X_train, y_train)\n",
    "print(grid.best_params_)\n",
    "logit_model = LogisticRegression(**grid.best_params_)\n",
    "logit_model.fit(X_train, y_train)\n",
    "model_list['logit_model'] = logit_model"
   ]
  },
  {
   "cell_type": "code",
   "execution_count": 57,
   "metadata": {},
   "outputs": [
    {
     "name": "stdout",
     "output_type": "stream",
     "text": [
      "{'max_depth': 8, 'n_estimators': 500}\n"
     ]
    }
   ],
   "source": [
    "### Random Forest\n",
    "\n",
    "from sklearn.ensemble import RandomForestClassifier\n",
    "param_grid = {'max_depth': [4,6,8], \"n_estimators\": [200,300,500]}\n",
    "grid = GridSearchCV(RandomForestClassifier(), param_grid, cv = 3, scoring = \"roc_auc\")\n",
    "grid.fit(X_train, y_train)\n",
    "print(grid.best_params_)\n",
    "rf_model = RandomForestClassifier(**grid.best_params_)\n",
    "rf_model.fit(X_train, y_train)\n",
    "model_list['rf_model'] = rf_model"
   ]
  },
  {
   "cell_type": "markdown",
   "metadata": {},
   "source": [
    "#### Comparing analysis"
   ]
  },
  {
   "cell_type": "code",
   "execution_count": 58,
   "metadata": {},
   "outputs": [
    {
     "data": {
      "image/png": "[encoded data removed]",
      "text/plain": [
       "<Figure size 432x288 with 1 Axes>"
      ]
     },
     "metadata": {
      "needs_background": "light"
     },
     "output_type": "display_data"
    }
   ],
   "source": [
    "from sklearn import metrics\n",
    "import matplotlib.pyplot as plt\n",
    "plt.figure()\n",
    "\n",
    "# Below for loop iterates through your models list\n",
    "for name, model in model_list.items():\n",
    "# Compute False postive rate, and True positive rate\n",
    "    fpr, tpr, thresholds = metrics.roc_curve(y_test, model.predict_proba(X_test)[:,1])\n",
    "# Calculate Area under the curve to display on the plot\n",
    "    auc = metrics.roc_auc_score(y_test,model.predict_proba(X_test)[:,1])\n",
    "# Now, plot the computed values\n",
    "    plt.plot(fpr, tpr, label='%s ROC (area = %0.2f)' % (name, auc))\n",
    "# Custom settings for the plot \n",
    "plt.plot([0, 1], [0, 1],'r--')\n",
    "plt.xlim([0.0, 1.0])\n",
    "plt.ylim([0.0, 1.05])\n",
    "plt.xlabel('1-Specificity(False Positive Rate)')\n",
    "plt.ylabel('Sensitivity(True Positive Rate)')\n",
    "plt.title('Receiver Operating Characteristic')\n",
    "plt.legend(loc=\"lower right\")\n",
    "plt.show()   # Display"
   ]
  },
  {
   "cell_type": "code",
   "execution_count": 59,
   "metadata": {},
   "outputs": [
    {
     "data": {
      "text/html": [
       "<div>\n",
       "<style scoped>\n",
       "    .dataframe tbody tr th:only-of-type {\n",
       "        vertical-align: middle;\n",
       "    }\n",
       "\n",
       "    .dataframe tbody tr th {\n",
       "        vertical-align: top;\n",
       "    }\n",
       "\n",
       "    .dataframe thead th {\n",
       "        text-align: right;\n",
       "    }\n",
       "</style>\n",
       "<table border=\"1\" class=\"dataframe\">\n",
       "  <thead>\n",
       "    <tr style=\"text-align: right;\">\n",
       "      <th></th>\n",
       "      <th>train_auc</th>\n",
       "      <th>test_auc</th>\n",
       "    </tr>\n",
       "  </thead>\n",
       "  <tbody>\n",
       "    <tr>\n",
       "      <th>logit_model</th>\n",
       "      <td>0.76</td>\n",
       "      <td>0.75</td>\n",
       "    </tr>\n",
       "    <tr>\n",
       "      <th>rf_model</th>\n",
       "      <td>0.77</td>\n",
       "      <td>0.76</td>\n",
       "    </tr>\n",
       "  </tbody>\n",
       "</table>\n",
       "</div>"
      ],
      "text/plain": [
       "            train_auc test_auc\n",
       "logit_model      0.76     0.75\n",
       "rf_model         0.77     0.76"
      ]
     },
     "execution_count": 59,
     "metadata": {},
     "output_type": "execute_result"
    }
   ],
   "source": [
    "auc = pd.DataFrame()\n",
    "for name, model in model_list.items():\n",
    "    train_auc = metrics.roc_auc_score(y_train,model.predict_proba(X_train)[:,1])\n",
    "    test_auc = metrics.roc_auc_score(y_test,model.predict_proba(X_test)[:,1])\n",
    "    auc.at[name, \"train_auc\"] = '{0:.2f}'.format(train_auc)\n",
    "    auc.at[name, \"test_auc\"] = '{0:.2f}'.format(test_auc)\n",
    "auc\n"
   ]
  }
 ],
 "metadata": {
  "kernelspec": {
   "display_name": "Python 3",
   "language": "python",
   "name": "python3"
  },
  "language_info": {
   "codemirror_mode": {
    "name": "ipython",
    "version": 3
   },
   "file_extension": ".py",
   "mimetype": "text/x-python",
   "name": "python",
   "nbconvert_exporter": "python",
   "pygments_lexer": "ipython3",
   "version": "3.7.3"
  }
 },
 "nbformat": 4,
 "nbformat_minor": 2
}
